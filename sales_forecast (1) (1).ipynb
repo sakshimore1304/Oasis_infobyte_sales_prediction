{
 "cells": [
  {
   "cell_type": "markdown",
   "metadata": {
    "id": "j8AD3rIAmOjb"
   },
   "source": [
    "**SALES FORECAST**"
   ]
  },
  {
   "cell_type": "markdown",
   "metadata": {
    "id": "UB9gMyo2mSV7"
   },
   "source": [
    "this data analysis is done by Sakshi K More"
   ]
  },
  {
   "cell_type": "markdown",
   "metadata": {
    "id": "-hcTKZesmXib"
   },
   "source": [
    "importing all the required libraries"
   ]
  },
  {
   "cell_type": "code",
   "execution_count": 141,
   "metadata": {
    "id": "vubuHT3mncJy"
   },
   "outputs": [],
   "source": [
    "import pandas as pd\n",
    "import numpy as np\n",
    "import matplotlib.pyplot as plt\n",
    "import seaborn as sns\n",
    "import datetime as dt\n",
    "import string\n",
    "from sklearn.model_selection import train_test_split\n",
    "from sklearn.linear_model import LinearRegression\n",
    "from ipywidgets import interact\n"
   ]
  },
  {
   "cell_type": "markdown",
   "metadata": {
    "id": "GDHnsHsi_W3C"
   },
   "source": [
    "loading the dataset"
   ]
  },
  {
   "cell_type": "code",
   "execution_count": 57,
   "metadata": {
    "colab": {
     "base_uri": "https://localhost:8080/",
     "height": 600
    },
    "id": "HyxeFqWy-1h9",
    "outputId": "351db5d1-6c00-4c33-abf8-4d4ef3d0a6ac"
   },
   "outputs": [
    {
     "data": {
      "text/html": [
       "\n",
       "  <div id=\"df-4416b5c8-35d4-4909-931e-dadb2b9e4f11\">\n",
       "    <div class=\"colab-df-container\">\n",
       "      <div>\n",
       "<style scoped>\n",
       "    .dataframe tbody tr th:only-of-type {\n",
       "        vertical-align: middle;\n",
       "    }\n",
       "\n",
       "    .dataframe tbody tr th {\n",
       "        vertical-align: top;\n",
       "    }\n",
       "\n",
       "    .dataframe thead th {\n",
       "        text-align: right;\n",
       "    }\n",
       "</style>\n",
       "<table border=\"1\" class=\"dataframe\">\n",
       "  <thead>\n",
       "    <tr style=\"text-align: right;\">\n",
       "      <th></th>\n",
       "      <th>Row ID</th>\n",
       "      <th>Order ID</th>\n",
       "      <th>Order Date</th>\n",
       "      <th>Ship Date</th>\n",
       "      <th>Ship Mode</th>\n",
       "      <th>Customer ID</th>\n",
       "      <th>Customer Name</th>\n",
       "      <th>Segment</th>\n",
       "      <th>Country</th>\n",
       "      <th>City</th>\n",
       "      <th>State</th>\n",
       "      <th>Postal Code</th>\n",
       "      <th>Region</th>\n",
       "      <th>Product ID</th>\n",
       "      <th>Category</th>\n",
       "      <th>Sub-Category</th>\n",
       "      <th>Product Name</th>\n",
       "      <th>Sales</th>\n",
       "    </tr>\n",
       "  </thead>\n",
       "  <tbody>\n",
       "    <tr>\n",
       "      <th>0</th>\n",
       "      <td>1</td>\n",
       "      <td>CA-2017-152156</td>\n",
       "      <td>08/11/2017</td>\n",
       "      <td>11/11/2017</td>\n",
       "      <td>Second Class</td>\n",
       "      <td>CG-12520</td>\n",
       "      <td>Claire Gute</td>\n",
       "      <td>Consumer</td>\n",
       "      <td>United States</td>\n",
       "      <td>Henderson</td>\n",
       "      <td>Kentucky</td>\n",
       "      <td>42420.0</td>\n",
       "      <td>South</td>\n",
       "      <td>FUR-BO-10001798</td>\n",
       "      <td>Furniture</td>\n",
       "      <td>Bookcases</td>\n",
       "      <td>Bush Somerset Collection Bookcase</td>\n",
       "      <td>261.9600</td>\n",
       "    </tr>\n",
       "    <tr>\n",
       "      <th>1</th>\n",
       "      <td>2</td>\n",
       "      <td>CA-2017-152156</td>\n",
       "      <td>08/11/2017</td>\n",
       "      <td>11/11/2017</td>\n",
       "      <td>Second Class</td>\n",
       "      <td>CG-12520</td>\n",
       "      <td>Claire Gute</td>\n",
       "      <td>Consumer</td>\n",
       "      <td>United States</td>\n",
       "      <td>Henderson</td>\n",
       "      <td>Kentucky</td>\n",
       "      <td>42420.0</td>\n",
       "      <td>South</td>\n",
       "      <td>FUR-CH-10000454</td>\n",
       "      <td>Furniture</td>\n",
       "      <td>Chairs</td>\n",
       "      <td>Hon Deluxe Fabric Upholstered Stacking Chairs,...</td>\n",
       "      <td>731.9400</td>\n",
       "    </tr>\n",
       "    <tr>\n",
       "      <th>2</th>\n",
       "      <td>3</td>\n",
       "      <td>CA-2017-138688</td>\n",
       "      <td>12/06/2017</td>\n",
       "      <td>16/06/2017</td>\n",
       "      <td>Second Class</td>\n",
       "      <td>DV-13045</td>\n",
       "      <td>Darrin Van Huff</td>\n",
       "      <td>Corporate</td>\n",
       "      <td>United States</td>\n",
       "      <td>Los Angeles</td>\n",
       "      <td>California</td>\n",
       "      <td>90036.0</td>\n",
       "      <td>West</td>\n",
       "      <td>OFF-LA-10000240</td>\n",
       "      <td>Office Supplies</td>\n",
       "      <td>Labels</td>\n",
       "      <td>Self-Adhesive Address Labels for Typewriters b...</td>\n",
       "      <td>14.6200</td>\n",
       "    </tr>\n",
       "    <tr>\n",
       "      <th>3</th>\n",
       "      <td>4</td>\n",
       "      <td>US-2016-108966</td>\n",
       "      <td>11/10/2016</td>\n",
       "      <td>18/10/2016</td>\n",
       "      <td>Standard Class</td>\n",
       "      <td>SO-20335</td>\n",
       "      <td>Sean O'Donnell</td>\n",
       "      <td>Consumer</td>\n",
       "      <td>United States</td>\n",
       "      <td>Fort Lauderdale</td>\n",
       "      <td>Florida</td>\n",
       "      <td>33311.0</td>\n",
       "      <td>South</td>\n",
       "      <td>FUR-TA-10000577</td>\n",
       "      <td>Furniture</td>\n",
       "      <td>Tables</td>\n",
       "      <td>Bretford CR4500 Series Slim Rectangular Table</td>\n",
       "      <td>957.5775</td>\n",
       "    </tr>\n",
       "    <tr>\n",
       "      <th>4</th>\n",
       "      <td>5</td>\n",
       "      <td>US-2016-108966</td>\n",
       "      <td>11/10/2016</td>\n",
       "      <td>18/10/2016</td>\n",
       "      <td>Standard Class</td>\n",
       "      <td>SO-20335</td>\n",
       "      <td>Sean O'Donnell</td>\n",
       "      <td>Consumer</td>\n",
       "      <td>United States</td>\n",
       "      <td>Fort Lauderdale</td>\n",
       "      <td>Florida</td>\n",
       "      <td>33311.0</td>\n",
       "      <td>South</td>\n",
       "      <td>OFF-ST-10000760</td>\n",
       "      <td>Office Supplies</td>\n",
       "      <td>Storage</td>\n",
       "      <td>Eldon Fold 'N Roll Cart System</td>\n",
       "      <td>22.3680</td>\n",
       "    </tr>\n",
       "  </tbody>\n",
       "</table>\n",
       "</div>\n",
       "      <button class=\"colab-df-convert\" onclick=\"convertToInteractive('df-4416b5c8-35d4-4909-931e-dadb2b9e4f11')\"\n",
       "              title=\"Convert this dataframe to an interactive table.\"\n",
       "              style=\"display:none;\">\n",
       "        \n",
       "  <svg xmlns=\"http://www.w3.org/2000/svg\" height=\"24px\"viewBox=\"0 0 24 24\"\n",
       "       width=\"24px\">\n",
       "    <path d=\"M0 0h24v24H0V0z\" fill=\"none\"/>\n",
       "    <path d=\"M18.56 5.44l.94 2.06.94-2.06 2.06-.94-2.06-.94-.94-2.06-.94 2.06-2.06.94zm-11 1L8.5 8.5l.94-2.06 2.06-.94-2.06-.94L8.5 2.5l-.94 2.06-2.06.94zm10 10l.94 2.06.94-2.06 2.06-.94-2.06-.94-.94-2.06-.94 2.06-2.06.94z\"/><path d=\"M17.41 7.96l-1.37-1.37c-.4-.4-.92-.59-1.43-.59-.52 0-1.04.2-1.43.59L10.3 9.45l-7.72 7.72c-.78.78-.78 2.05 0 2.83L4 21.41c.39.39.9.59 1.41.59.51 0 1.02-.2 1.41-.59l7.78-7.78 2.81-2.81c.8-.78.8-2.07 0-2.86zM5.41 20L4 18.59l7.72-7.72 1.47 1.35L5.41 20z\"/>\n",
       "  </svg>\n",
       "      </button>\n",
       "      \n",
       "  <style>\n",
       "    .colab-df-container {\n",
       "      display:flex;\n",
       "      flex-wrap:wrap;\n",
       "      gap: 12px;\n",
       "    }\n",
       "\n",
       "    .colab-df-convert {\n",
       "      background-color: #E8F0FE;\n",
       "      border: none;\n",
       "      border-radius: 50%;\n",
       "      cursor: pointer;\n",
       "      display: none;\n",
       "      fill: #1967D2;\n",
       "      height: 32px;\n",
       "      padding: 0 0 0 0;\n",
       "      width: 32px;\n",
       "    }\n",
       "\n",
       "    .colab-df-convert:hover {\n",
       "      background-color: #E2EBFA;\n",
       "      box-shadow: 0px 1px 2px rgba(60, 64, 67, 0.3), 0px 1px 3px 1px rgba(60, 64, 67, 0.15);\n",
       "      fill: #174EA6;\n",
       "    }\n",
       "\n",
       "    [theme=dark] .colab-df-convert {\n",
       "      background-color: #3B4455;\n",
       "      fill: #D2E3FC;\n",
       "    }\n",
       "\n",
       "    [theme=dark] .colab-df-convert:hover {\n",
       "      background-color: #434B5C;\n",
       "      box-shadow: 0px 1px 3px 1px rgba(0, 0, 0, 0.15);\n",
       "      filter: drop-shadow(0px 1px 2px rgba(0, 0, 0, 0.3));\n",
       "      fill: #FFFFFF;\n",
       "    }\n",
       "  </style>\n",
       "\n",
       "      <script>\n",
       "        const buttonEl =\n",
       "          document.querySelector('#df-4416b5c8-35d4-4909-931e-dadb2b9e4f11 button.colab-df-convert');\n",
       "        buttonEl.style.display =\n",
       "          google.colab.kernel.accessAllowed ? 'block' : 'none';\n",
       "\n",
       "        async function convertToInteractive(key) {\n",
       "          const element = document.querySelector('#df-4416b5c8-35d4-4909-931e-dadb2b9e4f11');\n",
       "          const dataTable =\n",
       "            await google.colab.kernel.invokeFunction('convertToInteractive',\n",
       "                                                     [key], {});\n",
       "          if (!dataTable) return;\n",
       "\n",
       "          const docLinkHtml = 'Like what you see? Visit the ' +\n",
       "            '<a target=\"_blank\" href=https://colab.research.google.com/notebooks/data_table.ipynb>data table notebook</a>'\n",
       "            + ' to learn more about interactive tables.';\n",
       "          element.innerHTML = '';\n",
       "          dataTable['output_type'] = 'display_data';\n",
       "          await google.colab.output.renderOutput(dataTable, element);\n",
       "          const docLink = document.createElement('div');\n",
       "          docLink.innerHTML = docLinkHtml;\n",
       "          element.appendChild(docLink);\n",
       "        }\n",
       "      </script>\n",
       "    </div>\n",
       "  </div>\n",
       "  "
      ],
      "text/plain": [
       "   Row ID        Order ID  Order Date   Ship Date       Ship Mode Customer ID  \\\n",
       "0       1  CA-2017-152156  08/11/2017  11/11/2017    Second Class    CG-12520   \n",
       "1       2  CA-2017-152156  08/11/2017  11/11/2017    Second Class    CG-12520   \n",
       "2       3  CA-2017-138688  12/06/2017  16/06/2017    Second Class    DV-13045   \n",
       "3       4  US-2016-108966  11/10/2016  18/10/2016  Standard Class    SO-20335   \n",
       "4       5  US-2016-108966  11/10/2016  18/10/2016  Standard Class    SO-20335   \n",
       "\n",
       "     Customer Name    Segment        Country             City       State  \\\n",
       "0      Claire Gute   Consumer  United States        Henderson    Kentucky   \n",
       "1      Claire Gute   Consumer  United States        Henderson    Kentucky   \n",
       "2  Darrin Van Huff  Corporate  United States      Los Angeles  California   \n",
       "3   Sean O'Donnell   Consumer  United States  Fort Lauderdale     Florida   \n",
       "4   Sean O'Donnell   Consumer  United States  Fort Lauderdale     Florida   \n",
       "\n",
       "   Postal Code Region       Product ID         Category Sub-Category  \\\n",
       "0      42420.0  South  FUR-BO-10001798        Furniture    Bookcases   \n",
       "1      42420.0  South  FUR-CH-10000454        Furniture       Chairs   \n",
       "2      90036.0   West  OFF-LA-10000240  Office Supplies       Labels   \n",
       "3      33311.0  South  FUR-TA-10000577        Furniture       Tables   \n",
       "4      33311.0  South  OFF-ST-10000760  Office Supplies      Storage   \n",
       "\n",
       "                                        Product Name     Sales  \n",
       "0                  Bush Somerset Collection Bookcase  261.9600  \n",
       "1  Hon Deluxe Fabric Upholstered Stacking Chairs,...  731.9400  \n",
       "2  Self-Adhesive Address Labels for Typewriters b...   14.6200  \n",
       "3      Bretford CR4500 Series Slim Rectangular Table  957.5775  \n",
       "4                     Eldon Fold 'N Roll Cart System   22.3680  "
      ]
     },
     "execution_count": 57,
     "metadata": {},
     "output_type": "execute_result"
    }
   ],
   "source": [
    "data=pd.read_csv('train.csv')\n",
    "data.head()"
   ]
  },
  {
   "cell_type": "markdown",
   "metadata": {
    "id": "jTRDN3FpmdgA"
   },
   "source": [
    "displaying the shape of the data"
   ]
  },
  {
   "cell_type": "code",
   "execution_count": 142,
   "metadata": {
    "colab": {
     "base_uri": "https://localhost:8080/"
    },
    "id": "dfRCHp51mgUd",
    "outputId": "8cc4fc5c-6707-43e0-99e4-323201bc9a58"
   },
   "outputs": [
    {
     "data": {
      "text/plain": [
       "(9800, 21)"
      ]
     },
     "execution_count": 142,
     "metadata": {},
     "output_type": "execute_result"
    }
   ],
   "source": [
    "data.shape"
   ]
  },
  {
   "cell_type": "markdown",
   "metadata": {
    "id": "jQnLOULU_mWj"
   },
   "source": [
    "displaying the columns of the data"
   ]
  },
  {
   "cell_type": "code",
   "execution_count": 58,
   "metadata": {
    "colab": {
     "base_uri": "https://localhost:8080/"
    },
    "id": "dcTJkKVu_pif",
    "outputId": "af542ca1-18c7-47ab-971a-f327e95feb72"
   },
   "outputs": [
    {
     "data": {
      "text/plain": [
       "Index(['Row ID', 'Order ID', 'Order Date', 'Ship Date', 'Ship Mode',\n",
       "       'Customer ID', 'Customer Name', 'Segment', 'Country', 'City', 'State',\n",
       "       'Postal Code', 'Region', 'Product ID', 'Category', 'Sub-Category',\n",
       "       'Product Name', 'Sales'],\n",
       "      dtype='object')"
      ]
     },
     "execution_count": 58,
     "metadata": {},
     "output_type": "execute_result"
    }
   ],
   "source": [
    "data.columns"
   ]
  },
  {
   "cell_type": "markdown",
   "metadata": {
    "id": "xpqccT3-_hJw"
   },
   "source": [
    "displaying the data types of the columns of the dataset"
   ]
  },
  {
   "cell_type": "code",
   "execution_count": 143,
   "metadata": {
    "colab": {
     "base_uri": "https://localhost:8080/"
    },
    "id": "njalxAoQ_cQ7",
    "outputId": "1f1fdef1-4cd6-43a7-ecfb-a771e0124109"
   },
   "outputs": [
    {
     "data": {
      "text/plain": [
       "Row ID                    int64\n",
       "Order ID                 object\n",
       "Order Date       datetime64[ns]\n",
       "Ship Date                object\n",
       "Ship Mode                object\n",
       "Customer ID              object\n",
       "Customer Name            object\n",
       "Segment                  object\n",
       "Country                  object\n",
       "City                     object\n",
       "State                    object\n",
       "Postal Code             float64\n",
       "Region                   object\n",
       "Product ID               object\n",
       "Category                 object\n",
       "Sub-Category             object\n",
       "Product Name             object\n",
       "Sales                   float64\n",
       "Year                      int64\n",
       "Month                     int64\n",
       "Day                       int64\n",
       "dtype: object"
      ]
     },
     "execution_count": 143,
     "metadata": {},
     "output_type": "execute_result"
    }
   ],
   "source": [
    "data.dtypes"
   ]
  },
  {
   "cell_type": "markdown",
   "metadata": {
    "id": "GZcvz1bc_uFR"
   },
   "source": [
    "converting the columns 'ship date' and 'order date' in datetime format"
   ]
  },
  {
   "cell_type": "code",
   "execution_count": 144,
   "metadata": {
    "id": "ZJVGEUh7_lKx"
   },
   "outputs": [],
   "source": [
    "data['Order Date']=pd.to_datetime(data['Order Date'])\n",
    "data['Order Date']=data['Order Date'].dt.strftime(\"%Y-%m-%d\")\n",
    "data['Ship Date']=pd.to_datetime(data['Ship Date'])\n",
    "data['Ship Date']=data['Ship Date'].dt.strftime(\"%Y-%m-%d\")"
   ]
  },
  {
   "cell_type": "markdown",
   "metadata": {
    "id": "CLXHgDi0BG3O"
   },
   "source": [
    "to check if the data contains any null values"
   ]
  },
  {
   "cell_type": "code",
   "execution_count": 145,
   "metadata": {
    "colab": {
     "base_uri": "https://localhost:8080/"
    },
    "id": "4SEzJYBVACU1",
    "outputId": "7ece7655-eb81-4286-9212-a5f0d58775ef"
   },
   "outputs": [
    {
     "data": {
      "text/plain": [
       "Row ID           0\n",
       "Order ID         0\n",
       "Order Date       0\n",
       "Ship Date        0\n",
       "Ship Mode        0\n",
       "Customer ID      0\n",
       "Customer Name    0\n",
       "Segment          0\n",
       "Country          0\n",
       "City             0\n",
       "State            0\n",
       "Postal Code      0\n",
       "Region           0\n",
       "Product ID       0\n",
       "Category         0\n",
       "Sub-Category     0\n",
       "Product Name     0\n",
       "Sales            0\n",
       "Year             0\n",
       "Month            0\n",
       "Day              0\n",
       "dtype: int64"
      ]
     },
     "execution_count": 145,
     "metadata": {},
     "output_type": "execute_result"
    }
   ],
   "source": [
    "data.isnull().sum()"
   ]
  },
  {
   "cell_type": "markdown",
   "metadata": {
    "id": "hBapC8d9BNNn"
   },
   "source": [
    "this shows that postal code contains 11 null values . lets fill it with 0"
   ]
  },
  {
   "cell_type": "code",
   "execution_count": 146,
   "metadata": {
    "id": "-toTL5S2AFP0"
   },
   "outputs": [],
   "source": [
    "data.fillna(0,inplace=True)"
   ]
  },
  {
   "cell_type": "code",
   "execution_count": 147,
   "metadata": {
    "colab": {
     "base_uri": "https://localhost:8080/"
    },
    "id": "PJyhWYYEBVgl",
    "outputId": "30856943-ae4d-4836-df4d-080694b80fdf"
   },
   "outputs": [
    {
     "data": {
      "text/plain": [
       "Row ID           0\n",
       "Order ID         0\n",
       "Order Date       0\n",
       "Ship Date        0\n",
       "Ship Mode        0\n",
       "Customer ID      0\n",
       "Customer Name    0\n",
       "Segment          0\n",
       "Country          0\n",
       "City             0\n",
       "State            0\n",
       "Postal Code      0\n",
       "Region           0\n",
       "Product ID       0\n",
       "Category         0\n",
       "Sub-Category     0\n",
       "Product Name     0\n",
       "Sales            0\n",
       "Year             0\n",
       "Month            0\n",
       "Day              0\n",
       "dtype: int64"
      ]
     },
     "execution_count": 147,
     "metadata": {},
     "output_type": "execute_result"
    }
   ],
   "source": [
    "data.isnull().sum()"
   ]
  },
  {
   "cell_type": "markdown",
   "metadata": {
    "id": "vyA-M8p4BadO"
   },
   "source": [
    "to check if the data contains any duplicated values and if it contains lets drop that duplicated values"
   ]
  },
  {
   "cell_type": "code",
   "execution_count": 148,
   "metadata": {
    "colab": {
     "base_uri": "https://localhost:8080/"
    },
    "id": "PRxetxW4BXPY",
    "outputId": "4fd87e0e-7908-4ed7-f1d9-ffaf91cb2a30"
   },
   "outputs": [
    {
     "data": {
      "text/plain": [
       "0"
      ]
     },
     "execution_count": 148,
     "metadata": {},
     "output_type": "execute_result"
    }
   ],
   "source": [
    "data.duplicated().sum()"
   ]
  },
  {
   "cell_type": "markdown",
   "metadata": {
    "id": "zZaVfitjBoPJ"
   },
   "source": [
    "lets get the information of the data"
   ]
  },
  {
   "cell_type": "code",
   "execution_count": 149,
   "metadata": {
    "colab": {
     "base_uri": "https://localhost:8080/"
    },
    "id": "ayeqIQNFBjoj",
    "outputId": "515abda5-cab3-4c30-8c56-bf8c9ffb3e0e"
   },
   "outputs": [
    {
     "name": "stdout",
     "output_type": "stream",
     "text": [
      "<class 'pandas.core.frame.DataFrame'>\n",
      "RangeIndex: 9800 entries, 0 to 9799\n",
      "Data columns (total 21 columns):\n",
      " #   Column         Non-Null Count  Dtype  \n",
      "---  ------         --------------  -----  \n",
      " 0   Row ID         9800 non-null   int64  \n",
      " 1   Order ID       9800 non-null   object \n",
      " 2   Order Date     9800 non-null   object \n",
      " 3   Ship Date      9800 non-null   object \n",
      " 4   Ship Mode      9800 non-null   object \n",
      " 5   Customer ID    9800 non-null   object \n",
      " 6   Customer Name  9800 non-null   object \n",
      " 7   Segment        9800 non-null   object \n",
      " 8   Country        9800 non-null   object \n",
      " 9   City           9800 non-null   object \n",
      " 10  State          9800 non-null   object \n",
      " 11  Postal Code    9800 non-null   float64\n",
      " 12  Region         9800 non-null   object \n",
      " 13  Product ID     9800 non-null   object \n",
      " 14  Category       9800 non-null   object \n",
      " 15  Sub-Category   9800 non-null   object \n",
      " 16  Product Name   9800 non-null   object \n",
      " 17  Sales          9800 non-null   float64\n",
      " 18  Year           9800 non-null   int64  \n",
      " 19  Month          9800 non-null   int64  \n",
      " 20  Day            9800 non-null   int64  \n",
      "dtypes: float64(2), int64(4), object(15)\n",
      "memory usage: 1.6+ MB\n"
     ]
    }
   ],
   "source": [
    "data.info()"
   ]
  },
  {
   "cell_type": "markdown",
   "metadata": {
    "id": "oTbqzevvBtl3"
   },
   "source": [
    "let us describe the numerical columns in the data"
   ]
  },
  {
   "cell_type": "code",
   "execution_count": 150,
   "metadata": {
    "colab": {
     "base_uri": "https://localhost:8080/",
     "height": 300
    },
    "id": "IpBhAPnVBrBe",
    "outputId": "b30c295b-b826-423d-f485-84e647941f6d"
   },
   "outputs": [
    {
     "data": {
      "text/html": [
       "\n",
       "  <div id=\"df-fbf5dde2-a45e-4254-9c33-d7a7916c0832\">\n",
       "    <div class=\"colab-df-container\">\n",
       "      <div>\n",
       "<style scoped>\n",
       "    .dataframe tbody tr th:only-of-type {\n",
       "        vertical-align: middle;\n",
       "    }\n",
       "\n",
       "    .dataframe tbody tr th {\n",
       "        vertical-align: top;\n",
       "    }\n",
       "\n",
       "    .dataframe thead th {\n",
       "        text-align: right;\n",
       "    }\n",
       "</style>\n",
       "<table border=\"1\" class=\"dataframe\">\n",
       "  <thead>\n",
       "    <tr style=\"text-align: right;\">\n",
       "      <th></th>\n",
       "      <th>Row ID</th>\n",
       "      <th>Postal Code</th>\n",
       "      <th>Sales</th>\n",
       "      <th>Year</th>\n",
       "      <th>Month</th>\n",
       "      <th>Day</th>\n",
       "    </tr>\n",
       "  </thead>\n",
       "  <tbody>\n",
       "    <tr>\n",
       "      <th>count</th>\n",
       "      <td>9800.000000</td>\n",
       "      <td>9800.000000</td>\n",
       "      <td>9800.000000</td>\n",
       "      <td>9800.000000</td>\n",
       "      <td>9800.000000</td>\n",
       "      <td>9800.000000</td>\n",
       "    </tr>\n",
       "    <tr>\n",
       "      <th>mean</th>\n",
       "      <td>4900.500000</td>\n",
       "      <td>55211.280918</td>\n",
       "      <td>230.769059</td>\n",
       "      <td>2016.724184</td>\n",
       "      <td>7.186122</td>\n",
       "      <td>16.119184</td>\n",
       "    </tr>\n",
       "    <tr>\n",
       "      <th>std</th>\n",
       "      <td>2829.160653</td>\n",
       "      <td>32076.677954</td>\n",
       "      <td>626.651875</td>\n",
       "      <td>1.123984</td>\n",
       "      <td>3.424108</td>\n",
       "      <td>8.073122</td>\n",
       "    </tr>\n",
       "    <tr>\n",
       "      <th>min</th>\n",
       "      <td>1.000000</td>\n",
       "      <td>0.000000</td>\n",
       "      <td>0.444000</td>\n",
       "      <td>2015.000000</td>\n",
       "      <td>1.000000</td>\n",
       "      <td>1.000000</td>\n",
       "    </tr>\n",
       "    <tr>\n",
       "      <th>25%</th>\n",
       "      <td>2450.750000</td>\n",
       "      <td>23223.000000</td>\n",
       "      <td>17.248000</td>\n",
       "      <td>2016.000000</td>\n",
       "      <td>4.000000</td>\n",
       "      <td>10.000000</td>\n",
       "    </tr>\n",
       "    <tr>\n",
       "      <th>50%</th>\n",
       "      <td>4900.500000</td>\n",
       "      <td>57551.000000</td>\n",
       "      <td>54.490000</td>\n",
       "      <td>2017.000000</td>\n",
       "      <td>8.000000</td>\n",
       "      <td>16.000000</td>\n",
       "    </tr>\n",
       "    <tr>\n",
       "      <th>75%</th>\n",
       "      <td>7350.250000</td>\n",
       "      <td>90008.000000</td>\n",
       "      <td>210.605000</td>\n",
       "      <td>2018.000000</td>\n",
       "      <td>10.000000</td>\n",
       "      <td>23.000000</td>\n",
       "    </tr>\n",
       "    <tr>\n",
       "      <th>max</th>\n",
       "      <td>9800.000000</td>\n",
       "      <td>99301.000000</td>\n",
       "      <td>22638.480000</td>\n",
       "      <td>2018.000000</td>\n",
       "      <td>12.000000</td>\n",
       "      <td>31.000000</td>\n",
       "    </tr>\n",
       "  </tbody>\n",
       "</table>\n",
       "</div>\n",
       "      <button class=\"colab-df-convert\" onclick=\"convertToInteractive('df-fbf5dde2-a45e-4254-9c33-d7a7916c0832')\"\n",
       "              title=\"Convert this dataframe to an interactive table.\"\n",
       "              style=\"display:none;\">\n",
       "        \n",
       "  <svg xmlns=\"http://www.w3.org/2000/svg\" height=\"24px\"viewBox=\"0 0 24 24\"\n",
       "       width=\"24px\">\n",
       "    <path d=\"M0 0h24v24H0V0z\" fill=\"none\"/>\n",
       "    <path d=\"M18.56 5.44l.94 2.06.94-2.06 2.06-.94-2.06-.94-.94-2.06-.94 2.06-2.06.94zm-11 1L8.5 8.5l.94-2.06 2.06-.94-2.06-.94L8.5 2.5l-.94 2.06-2.06.94zm10 10l.94 2.06.94-2.06 2.06-.94-2.06-.94-.94-2.06-.94 2.06-2.06.94z\"/><path d=\"M17.41 7.96l-1.37-1.37c-.4-.4-.92-.59-1.43-.59-.52 0-1.04.2-1.43.59L10.3 9.45l-7.72 7.72c-.78.78-.78 2.05 0 2.83L4 21.41c.39.39.9.59 1.41.59.51 0 1.02-.2 1.41-.59l7.78-7.78 2.81-2.81c.8-.78.8-2.07 0-2.86zM5.41 20L4 18.59l7.72-7.72 1.47 1.35L5.41 20z\"/>\n",
       "  </svg>\n",
       "      </button>\n",
       "      \n",
       "  <style>\n",
       "    .colab-df-container {\n",
       "      display:flex;\n",
       "      flex-wrap:wrap;\n",
       "      gap: 12px;\n",
       "    }\n",
       "\n",
       "    .colab-df-convert {\n",
       "      background-color: #E8F0FE;\n",
       "      border: none;\n",
       "      border-radius: 50%;\n",
       "      cursor: pointer;\n",
       "      display: none;\n",
       "      fill: #1967D2;\n",
       "      height: 32px;\n",
       "      padding: 0 0 0 0;\n",
       "      width: 32px;\n",
       "    }\n",
       "\n",
       "    .colab-df-convert:hover {\n",
       "      background-color: #E2EBFA;\n",
       "      box-shadow: 0px 1px 2px rgba(60, 64, 67, 0.3), 0px 1px 3px 1px rgba(60, 64, 67, 0.15);\n",
       "      fill: #174EA6;\n",
       "    }\n",
       "\n",
       "    [theme=dark] .colab-df-convert {\n",
       "      background-color: #3B4455;\n",
       "      fill: #D2E3FC;\n",
       "    }\n",
       "\n",
       "    [theme=dark] .colab-df-convert:hover {\n",
       "      background-color: #434B5C;\n",
       "      box-shadow: 0px 1px 3px 1px rgba(0, 0, 0, 0.15);\n",
       "      filter: drop-shadow(0px 1px 2px rgba(0, 0, 0, 0.3));\n",
       "      fill: #FFFFFF;\n",
       "    }\n",
       "  </style>\n",
       "\n",
       "      <script>\n",
       "        const buttonEl =\n",
       "          document.querySelector('#df-fbf5dde2-a45e-4254-9c33-d7a7916c0832 button.colab-df-convert');\n",
       "        buttonEl.style.display =\n",
       "          google.colab.kernel.accessAllowed ? 'block' : 'none';\n",
       "\n",
       "        async function convertToInteractive(key) {\n",
       "          const element = document.querySelector('#df-fbf5dde2-a45e-4254-9c33-d7a7916c0832');\n",
       "          const dataTable =\n",
       "            await google.colab.kernel.invokeFunction('convertToInteractive',\n",
       "                                                     [key], {});\n",
       "          if (!dataTable) return;\n",
       "\n",
       "          const docLinkHtml = 'Like what you see? Visit the ' +\n",
       "            '<a target=\"_blank\" href=https://colab.research.google.com/notebooks/data_table.ipynb>data table notebook</a>'\n",
       "            + ' to learn more about interactive tables.';\n",
       "          element.innerHTML = '';\n",
       "          dataTable['output_type'] = 'display_data';\n",
       "          await google.colab.output.renderOutput(dataTable, element);\n",
       "          const docLink = document.createElement('div');\n",
       "          docLink.innerHTML = docLinkHtml;\n",
       "          element.appendChild(docLink);\n",
       "        }\n",
       "      </script>\n",
       "    </div>\n",
       "  </div>\n",
       "  "
      ],
      "text/plain": [
       "            Row ID   Postal Code         Sales         Year        Month  \\\n",
       "count  9800.000000   9800.000000   9800.000000  9800.000000  9800.000000   \n",
       "mean   4900.500000  55211.280918    230.769059  2016.724184     7.186122   \n",
       "std    2829.160653  32076.677954    626.651875     1.123984     3.424108   \n",
       "min       1.000000      0.000000      0.444000  2015.000000     1.000000   \n",
       "25%    2450.750000  23223.000000     17.248000  2016.000000     4.000000   \n",
       "50%    4900.500000  57551.000000     54.490000  2017.000000     8.000000   \n",
       "75%    7350.250000  90008.000000    210.605000  2018.000000    10.000000   \n",
       "max    9800.000000  99301.000000  22638.480000  2018.000000    12.000000   \n",
       "\n",
       "               Day  \n",
       "count  9800.000000  \n",
       "mean     16.119184  \n",
       "std       8.073122  \n",
       "min       1.000000  \n",
       "25%      10.000000  \n",
       "50%      16.000000  \n",
       "75%      23.000000  \n",
       "max      31.000000  "
      ]
     },
     "execution_count": 150,
     "metadata": {},
     "output_type": "execute_result"
    }
   ],
   "source": [
    "data.describe()"
   ]
  },
  {
   "cell_type": "markdown",
   "metadata": {
    "id": "L1tvOY0ZBzcr"
   },
   "source": [
    "lets find the maximum and minimum date we have in the data"
   ]
  },
  {
   "cell_type": "code",
   "execution_count": 151,
   "metadata": {
    "colab": {
     "base_uri": "https://localhost:8080/"
    },
    "id": "T52WqN6kBx5q",
    "outputId": "8a2f848b-bacc-422b-d937-1153cc5130a4"
   },
   "outputs": [
    {
     "name": "stdout",
     "output_type": "stream",
     "text": [
      "Max date is :  2018-12-30\n",
      "Min date is :  2015-01-02\n"
     ]
    }
   ],
   "source": [
    "print(\"Max date is : \",data['Order Date'].max())\n",
    "print(\"Min date is : \",data['Order Date'].min())"
   ]
  },
  {
   "cell_type": "markdown",
   "metadata": {
    "id": "qJeH0z1qCvUD"
   },
   "source": [
    "this shows that we have four years data"
   ]
  },
  {
   "cell_type": "markdown",
   "metadata": {
    "id": "EfpklK8wC0X9"
   },
   "source": [
    "lets check minimum and maximum sales in this four years"
   ]
  },
  {
   "cell_type": "code",
   "execution_count": 152,
   "metadata": {
    "colab": {
     "base_uri": "https://localhost:8080/"
    },
    "id": "ufwkrbOtCs52",
    "outputId": "4df15f74-f67a-4a1c-ff92-a6a3ab1aea1a"
   },
   "outputs": [
    {
     "name": "stdout",
     "output_type": "stream",
     "text": [
      "minimum sales is :  0.444\n",
      "maximum sales is :  22638.48\n"
     ]
    }
   ],
   "source": [
    "print(\"minimum sales is : \",data['Sales'].min())\n",
    "print(\"maximum sales is : \",data['Sales'].max())"
   ]
  },
  {
   "cell_type": "markdown",
   "metadata": {
    "id": "SEKN1czzmuij"
   },
   "source": [
    "creating 3 new columns from the Order Date column . Those are Year, Month and Day"
   ]
  },
  {
   "cell_type": "code",
   "execution_count": 153,
   "metadata": {
    "id": "6s1Jg3ltETu-"
   },
   "outputs": [],
   "source": [
    "data['Order Date']=pd.to_datetime(data['Order Date'])"
   ]
  },
  {
   "cell_type": "code",
   "execution_count": 154,
   "metadata": {
    "id": "qcBIVsopEFHO"
   },
   "outputs": [],
   "source": [
    "data['Year']=data['Order Date'].dt.year\n",
    "data['Month']=data['Order Date'].dt.month\n",
    "data['Day']=data['Order Date'].dt.day"
   ]
  },
  {
   "cell_type": "markdown",
   "metadata": {
    "id": "Nrso78m5Ds8B"
   },
   "source": [
    "lets get the value count of the segments from the data"
   ]
  },
  {
   "cell_type": "code",
   "execution_count": 155,
   "metadata": {
    "colab": {
     "base_uri": "https://localhost:8080/"
    },
    "id": "9zE7_3XWFTX5",
    "outputId": "71c3eddb-fc97-4202-aab0-7ed5bbfb3407"
   },
   "outputs": [
    {
     "data": {
      "text/plain": [
       "Consumer       5101\n",
       "Corporate      2953\n",
       "Home Office    1746\n",
       "Name: Segment, dtype: int64"
      ]
     },
     "execution_count": 155,
     "metadata": {},
     "output_type": "execute_result"
    }
   ],
   "source": [
    "data['Segment'].value_counts()"
   ]
  },
  {
   "cell_type": "markdown",
   "metadata": {
    "id": "5YlcPPypnApQ"
   },
   "source": [
    "lets create an interactive countplot that shows counts of sales per month as per the year selected by the user"
   ]
  },
  {
   "cell_type": "code",
   "execution_count": 156,
   "metadata": {
    "colab": {
     "base_uri": "https://localhost:8080/",
     "height": 504,
     "referenced_widgets": [
      "4767b5bb6661460eaa9e1bf36bb2d9fd",
      "79fc654dd4204f929035a5e72b87f11e",
      "c1c76074db5b4279ae194d7c11f6937c",
      "e4d0e2b882384d89ba9a037105a75ad7",
      "3687f0c625dc488fb0c12755e786f0cf",
      "6f0d5341e52d4f35903360e48b7f60ab",
      "3bb87e8a9de94a039a61755ca275c79e"
     ]
    },
    "id": "sXRuaBJCDqYm",
    "outputId": "ec0780bc-5085-44d5-9a90-5a379534f1bc"
   },
   "outputs": [
    {
     "data": {
      "application/vnd.jupyter.widget-view+json": {
       "model_id": "4767b5bb6661460eaa9e1bf36bb2d9fd",
       "version_major": 2,
       "version_minor": 0
      },
      "text/plain": [
       "interactive(children=(Dropdown(description='year', options=(2017, 2016, 2015, 2018), value=2017), Output()), _…"
      ]
     },
     "metadata": {},
     "output_type": "display_data"
    }
   ],
   "source": [
    "@interact(year=data['Year'].unique())\n",
    "def segment(year):\n",
    "  req_data=data[data['Year']==year]\n",
    "\n",
    "  ax=sns.countplot(x='Month',data=req_data)\n",
    "  for bars in ax.containers:\n",
    "    ax.bar_label(bars)\n",
    "  plt.title(f\"Month wise Count fot the year {year} \")\n",
    "  plt.xlabel('Month')\n",
    "  plt.ylabel('Counts')\n",
    "  plt.show()\n"
   ]
  },
  {
   "cell_type": "markdown",
   "metadata": {
    "id": "g5kTYrmXnM_t"
   },
   "source": [
    "lets create an interactive pie chart that shows the count of category as per the year selected by the user"
   ]
  },
  {
   "cell_type": "code",
   "execution_count": 157,
   "metadata": {
    "colab": {
     "base_uri": "https://localhost:8080/",
     "height": 460,
     "referenced_widgets": [
      "84fb307337264e10986ce4c553351cea",
      "225a298711644fe09cb53dfab9a335c7",
      "19bbb92e3c8145978e43c46394cc4556",
      "8b0f1e6d00724e5495a0cd8d451529ec",
      "edbadd515ca047bcb79da735f6f8268d",
      "41b06b502f0142f5bbc18c2cb156b986",
      "7ca41f76bc7443c59ebe5a8cf6f83c5d"
     ]
    },
    "id": "zrOM0WVHDzu2",
    "outputId": "1c885b51-6614-46b2-e833-09b89d5e7d1a"
   },
   "outputs": [
    {
     "data": {
      "application/vnd.jupyter.widget-view+json": {
       "model_id": "84fb307337264e10986ce4c553351cea",
       "version_major": 2,
       "version_minor": 0
      },
      "text/plain": [
       "interactive(children=(Dropdown(description='year', options=(2017, 2016, 2015, 2018), value=2017), Output()), _…"
      ]
     },
     "metadata": {},
     "output_type": "display_data"
    }
   ],
   "source": [
    "@interact(year=data['Year'].unique())\n",
    "def category(year):\n",
    "  req=data[data['Year']==year]\n",
    "  plt.pie(req['Category'].value_counts(),autopct=f\"%1.1f%%\",colors=['pink','purple','cyan'])\n",
    "  plt.legend(data['Category'])\n",
    "  plt.title(\"NUmber of sales as per Category\")\n",
    "  plt.show()"
   ]
  },
  {
   "cell_type": "markdown",
   "metadata": {
    "id": "AENO5gO8nYDk"
   },
   "source": [
    "displaying the value count of the sub category in the sales dataset in the form of graph"
   ]
  },
  {
   "cell_type": "code",
   "execution_count": 159,
   "metadata": {
    "colab": {
     "base_uri": "https://localhost:8080/",
     "height": 539
    },
    "id": "cp1uDzHcHUlB",
    "outputId": "475a1965-d616-42dd-ddf4-da36afeac720"
   },
   "outputs": [
    {
     "data": {
      "image/png": "[encoded data removed]",
      "text/plain": [
       "<Figure size 640x480 with 1 Axes>"
      ]
     },
     "metadata": {},
     "output_type": "display_data"
    }
   ],
   "source": [
    "ax=sns.countplot(x='Sub-Category',data=data,palette='viridis')\n",
    "plt.xticks(rotation=90)\n",
    "plt.title(\"Count as per Sub Category\")\n",
    "for bars in ax.containers:\n",
    "  ax.bar_label(bars)"
   ]
  },
  {
   "cell_type": "markdown",
   "metadata": {
    "id": "_cl2Tm89nqWH"
   },
   "source": [
    "creating an interactive plot that shows the trends of the sales over months and according to the year selected by the user"
   ]
  },
  {
   "cell_type": "code",
   "execution_count": 160,
   "metadata": {
    "colab": {
     "base_uri": "https://localhost:8080/",
     "height": 758,
     "referenced_widgets": [
      "3bbe59c1170342138b162dc3cf98fc3b",
      "91e03199753042d883a7b4c3f9188369",
      "b7abe4a7fe7a4e1f82738a90ac72136a",
      "04f3d286337d4edc8e125785de5ace6e",
      "b5377d799e644a05a681821bc7690cf0",
      "0a16e72ce0194588bf87b3c946dcb332",
      "6aa742ad471b4676ab11775fa622f20f"
     ]
    },
    "id": "JlEBu6WDKITZ",
    "outputId": "0f495983-e0d4-45a2-dbfd-f296148a99a9"
   },
   "outputs": [
    {
     "data": {
      "application/vnd.jupyter.widget-view+json": {
       "model_id": "3bbe59c1170342138b162dc3cf98fc3b",
       "version_major": 2,
       "version_minor": 0
      },
      "text/plain": [
       "interactive(children=(Dropdown(description='year', options=(2017, 2016, 2015, 2018), value=2017), Output()), _…"
      ]
     },
     "metadata": {},
     "output_type": "display_data"
    }
   ],
   "source": [
    "@interact(year=data['Year'].unique())\n",
    "def sales(year):\n",
    "  req1=data[data['Year']==year]\n",
    "  sales = req1.groupby('Month')['Sales'].sum()\n",
    "\n",
    "  # Create a line plot to visualize the sales trend\n",
    "  plt.figure(figsize=(8,8))\n",
    "  plt.plot(sales.index, sales.values)\n",
    "  plt.xlabel('Months')\n",
    "  plt.ylabel('Total Sales')\n",
    "  plt.title(f'{year} Sales Trend Over Time')\n",
    "  plt.xticks(rotation=45)\n",
    "  plt.show()"
   ]
  },
  {
   "cell_type": "markdown",
   "metadata": {
    "id": "k60fGlJ3n37F"
   },
   "source": [
    "creating a bar chart that shows the yearly sales for the data"
   ]
  },
  {
   "cell_type": "code",
   "execution_count": 161,
   "metadata": {
    "colab": {
     "base_uri": "https://localhost:8080/",
     "height": 523
    },
    "id": "tLbBcLnzOCjL",
    "outputId": "80f26658-b970-489c-ab41-f6421da2ed09"
   },
   "outputs": [
    {
     "data": {
      "text/plain": [
       "Text(0.5, 1.0, 'Yearly Sales')"
      ]
     },
     "execution_count": 161,
     "metadata": {},
     "output_type": "execute_result"
    },
    {
     "data": {
      "image/png": "[encoded data removed]",
      "text/plain": [
       "<Figure size 640x480 with 1 Axes>"
      ]
     },
     "metadata": {},
     "output_type": "display_data"
    }
   ],
   "source": [
    "x=data['Year']\n",
    "y=data['Sales']\n",
    "plt.bar(x,y)\n",
    "plt.xlabel('Year')\n",
    "plt.xticks(rotation=90)\n",
    "plt.ylabel('Sales')\n",
    "plt.title(\"Yearly Sales\")"
   ]
  },
  {
   "cell_type": "markdown",
   "metadata": {
    "id": "nh4xV1HQn_iZ"
   },
   "source": [
    "lets create an interactive pie chart that shows the region wise sales and filter it as per the year selected by the user"
   ]
  },
  {
   "cell_type": "code",
   "execution_count": 162,
   "metadata": {
    "colab": {
     "base_uri": "https://localhost:8080/",
     "height": 460,
     "referenced_widgets": [
      "00b1ec19f25a4810a97cd717e5e94ce8",
      "cb412e6339094d26a8d4ff8b5f7d1521",
      "00c5b8614c9340e6b65e7f5f80445bb4",
      "d1186662ab0145fb9b688c160c06ee92",
      "4636b65dfef34c95a40f0d285906aeb9",
      "42187594a48b4bfe91ba6f8a00b2d634",
      "c61baed78b5c45a98af94ab5dcf305e9"
     ]
    },
    "id": "HyiTB2JQO_YW",
    "outputId": "027d8930-057d-47e7-9b6a-57ccbf70a068"
   },
   "outputs": [
    {
     "data": {
      "application/vnd.jupyter.widget-view+json": {
       "model_id": "00b1ec19f25a4810a97cd717e5e94ce8",
       "version_major": 2,
       "version_minor": 0
      },
      "text/plain": [
       "interactive(children=(Dropdown(description='year', options=(2017, 2016, 2015, 2018), value=2017), Output()), _…"
      ]
     },
     "metadata": {},
     "output_type": "display_data"
    }
   ],
   "source": [
    "@interact(year=data['Year'].unique())\n",
    "def region(year):\n",
    "  req2=data[data['Year']==year].groupby('Region')['Sales'].sum()\n",
    "  plt.pie(req2,autopct=\"%1.1f%%\")\n",
    "  plt.legend(data['Region'],loc='upper right')\n",
    "  plt.title('Regionwise sales')\n",
    "  plt.show()"
   ]
  },
  {
   "cell_type": "code",
   "execution_count": null,
   "metadata": {
    "id": "OclakIQVQjvK"
   },
   "outputs": [],
   "source": []
  }
 ],
 "metadata": {
  "colab": {
   "provenance": []
  },
  "kernelspec": {
   "display_name": "Python 3",
   "language": "python",
   "name": "python3"
  },
  "language_info": {
   "codemirror_mode": {
    "name": "ipython",
    "version": 3
   },
   "file_extension": ".py",
   "mimetype": "text/x-python",
   "name": "python",
   "nbconvert_exporter": "python",
   "pygments_lexer": "ipython3",
   "version": "3.8.8"
  },
  "widgets": {
   "application/vnd.jupyter.widget-state+json": {
    "00b1ec19f25a4810a97cd717e5e94ce8": {
     "model_module": "@jupyter-widgets/controls",
     "model_module_version": "1.5.0",
     "model_name": "VBoxModel",
     "state": {
      "_dom_classes": [
       "widget-interact"
      ],
      "_model_module": "@jupyter-widgets/controls",
      "_model_module_version": "1.5.0",
      "_model_name": "VBoxModel",
      "_view_count": null,
      "_view_module": "@jupyter-widgets/controls",
      "_view_module_version": "1.5.0",
      "_view_name": "VBoxView",
      "box_style": "",
      "children": [
       "IPY_MODEL_cb412e6339094d26a8d4ff8b5f7d1521",
       "IPY_MODEL_00c5b8614c9340e6b65e7f5f80445bb4"
      ],
      "layout": "IPY_MODEL_d1186662ab0145fb9b688c160c06ee92"
     }
    },
    "00c5b8614c9340e6b65e7f5f80445bb4": {
     "model_module": "@jupyter-widgets/output",
     "model_module_version": "1.0.0",
     "model_name": "OutputModel",
     "state": {
      "_dom_classes": [],
      "_model_module": "@jupyter-widgets/output",
      "_model_module_version": "1.0.0",
      "_model_name": "OutputModel",
      "_view_count": null,
      "_view_module": "@jupyter-widgets/output",
      "_view_module_version": "1.0.0",
      "_view_name": "OutputView",
      "layout": "IPY_MODEL_c61baed78b5c45a98af94ab5dcf305e9",
      "msg_id": "",
      "outputs": [
       {
        "data": {
         "image/png": "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\n",
         "text/plain": "<Figure size 640x480 with 1 Axes>"
        },
        "metadata": {},
        "output_type": "display_data"
       }
      ]
     }
    },
    "04f3d286337d4edc8e125785de5ace6e": {
     "model_module": "@jupyter-widgets/base",
     "model_module_version": "1.2.0",
     "model_name": "LayoutModel",
     "state": {
      "_model_module": "@jupyter-widgets/base",
      "_model_module_version": "1.2.0",
      "_model_name": "LayoutModel",
      "_view_count": null,
      "_view_module": "@jupyter-widgets/base",
      "_view_module_version": "1.2.0",
      "_view_name": "LayoutView",
      "align_content": null,
      "align_items": null,
      "align_self": null,
      "border": null,
      "bottom": null,
      "display": null,
      "flex": null,
      "flex_flow": null,
      "grid_area": null,
      "grid_auto_columns": null,
      "grid_auto_flow": null,
      "grid_auto_rows": null,
      "grid_column": null,
      "grid_gap": null,
      "grid_row": null,
      "grid_template_areas": null,
      "grid_template_columns": null,
      "grid_template_rows": null,
      "height": null,
      "justify_content": null,
      "justify_items": null,
      "left": null,
      "margin": null,
      "max_height": null,
      "max_width": null,
      "min_height": null,
      "min_width": null,
      "object_fit": null,
      "object_position": null,
      "order": null,
      "overflow": null,
      "overflow_x": null,
      "overflow_y": null,
      "padding": null,
      "right": null,
      "top": null,
      "visibility": null,
      "width": null
     }
    },
    "0a16e72ce0194588bf87b3c946dcb332": {
     "model_module": "@jupyter-widgets/controls",
     "model_module_version": "1.5.0",
     "model_name": "DescriptionStyleModel",
     "state": {
      "_model_module": "@jupyter-widgets/controls",
      "_model_module_version": "1.5.0",
      "_model_name": "DescriptionStyleModel",
      "_view_count": null,
      "_view_module": "@jupyter-widgets/base",
      "_view_module_version": "1.2.0",
      "_view_name": "StyleView",
      "description_width": ""
     }
    },
    "19bbb92e3c8145978e43c46394cc4556": {
     "model_module": "@jupyter-widgets/output",
     "model_module_version": "1.0.0",
     "model_name": "OutputModel",
     "state": {
      "_dom_classes": [],
      "_model_module": "@jupyter-widgets/output",
      "_model_module_version": "1.0.0",
      "_model_name": "OutputModel",
      "_view_count": null,
      "_view_module": "@jupyter-widgets/output",
      "_view_module_version": "1.0.0",
      "_view_name": "OutputView",
      "layout": "IPY_MODEL_7ca41f76bc7443c59ebe5a8cf6f83c5d",
      "msg_id": "",
      "outputs": [
       {
        "data": {
         "image/png": "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\n",
         "text/plain": "<Figure size 640x480 with 1 Axes>"
        },
        "metadata": {},
        "output_type": "display_data"
       }
      ]
     }
    },
    "225a298711644fe09cb53dfab9a335c7": {
     "model_module": "@jupyter-widgets/controls",
     "model_module_version": "1.5.0",
     "model_name": "DropdownModel",
     "state": {
      "_dom_classes": [],
      "_model_module": "@jupyter-widgets/controls",
      "_model_module_version": "1.5.0",
      "_model_name": "DropdownModel",
      "_options_labels": [
       "2017",
       "2016",
       "2015",
       "2018"
      ],
      "_view_count": null,
      "_view_module": "@jupyter-widgets/controls",
      "_view_module_version": "1.5.0",
      "_view_name": "DropdownView",
      "description": "year",
      "description_tooltip": null,
      "disabled": false,
      "index": 0,
      "layout": "IPY_MODEL_edbadd515ca047bcb79da735f6f8268d",
      "style": "IPY_MODEL_41b06b502f0142f5bbc18c2cb156b986"
     }
    },
    "3687f0c625dc488fb0c12755e786f0cf": {
     "model_module": "@jupyter-widgets/base",
     "model_module_version": "1.2.0",
     "model_name": "LayoutModel",
     "state": {
      "_model_module": "@jupyter-widgets/base",
      "_model_module_version": "1.2.0",
      "_model_name": "LayoutModel",
      "_view_count": null,
      "_view_module": "@jupyter-widgets/base",
      "_view_module_version": "1.2.0",
      "_view_name": "LayoutView",
      "align_content": null,
      "align_items": null,
      "align_self": null,
      "border": null,
      "bottom": null,
      "display": null,
      "flex": null,
      "flex_flow": null,
      "grid_area": null,
      "grid_auto_columns": null,
      "grid_auto_flow": null,
      "grid_auto_rows": null,
      "grid_column": null,
      "grid_gap": null,
      "grid_row": null,
      "grid_template_areas": null,
      "grid_template_columns": null,
      "grid_template_rows": null,
      "height": null,
      "justify_content": null,
      "justify_items": null,
      "left": null,
      "margin": null,
      "max_height": null,
      "max_width": null,
      "min_height": null,
      "min_width": null,
      "object_fit": null,
      "object_position": null,
      "order": null,
      "overflow": null,
      "overflow_x": null,
      "overflow_y": null,
      "padding": null,
      "right": null,
      "top": null,
      "visibility": null,
      "width": null
     }
    },
    "3bb87e8a9de94a039a61755ca275c79e": {
     "model_module": "@jupyter-widgets/base",
     "model_module_version": "1.2.0",
     "model_name": "LayoutModel",
     "state": {
      "_model_module": "@jupyter-widgets/base",
      "_model_module_version": "1.2.0",
      "_model_name": "LayoutModel",
      "_view_count": null,
      "_view_module": "@jupyter-widgets/base",
      "_view_module_version": "1.2.0",
      "_view_name": "LayoutView",
      "align_content": null,
      "align_items": null,
      "align_self": null,
      "border": null,
      "bottom": null,
      "display": null,
      "flex": null,
      "flex_flow": null,
      "grid_area": null,
      "grid_auto_columns": null,
      "grid_auto_flow": null,
      "grid_auto_rows": null,
      "grid_column": null,
      "grid_gap": null,
      "grid_row": null,
      "grid_template_areas": null,
      "grid_template_columns": null,
      "grid_template_rows": null,
      "height": null,
      "justify_content": null,
      "justify_items": null,
      "left": null,
      "margin": null,
      "max_height": null,
      "max_width": null,
      "min_height": null,
      "min_width": null,
      "object_fit": null,
      "object_position": null,
      "order": null,
      "overflow": null,
      "overflow_x": null,
      "overflow_y": null,
      "padding": null,
      "right": null,
      "top": null,
      "visibility": null,
      "width": null
     }
    },
    "3bbe59c1170342138b162dc3cf98fc3b": {
     "model_module": "@jupyter-widgets/controls",
     "model_module_version": "1.5.0",
     "model_name": "VBoxModel",
     "state": {
      "_dom_classes": [
       "widget-interact"
      ],
      "_model_module": "@jupyter-widgets/controls",
      "_model_module_version": "1.5.0",
      "_model_name": "VBoxModel",
      "_view_count": null,
      "_view_module": "@jupyter-widgets/controls",
      "_view_module_version": "1.5.0",
      "_view_name": "VBoxView",
      "box_style": "",
      "children": [
       "IPY_MODEL_91e03199753042d883a7b4c3f9188369",
       "IPY_MODEL_b7abe4a7fe7a4e1f82738a90ac72136a"
      ],
      "layout": "IPY_MODEL_04f3d286337d4edc8e125785de5ace6e"
     }
    },
    "41b06b502f0142f5bbc18c2cb156b986": {
     "model_module": "@jupyter-widgets/controls",
     "model_module_version": "1.5.0",
     "model_name": "DescriptionStyleModel",
     "state": {
      "_model_module": "@jupyter-widgets/controls",
      "_model_module_version": "1.5.0",
      "_model_name": "DescriptionStyleModel",
      "_view_count": null,
      "_view_module": "@jupyter-widgets/base",
      "_view_module_version": "1.2.0",
      "_view_name": "StyleView",
      "description_width": ""
     }
    },
    "42187594a48b4bfe91ba6f8a00b2d634": {
     "model_module": "@jupyter-widgets/controls",
     "model_module_version": "1.5.0",
     "model_name": "DescriptionStyleModel",
     "state": {
      "_model_module": "@jupyter-widgets/controls",
      "_model_module_version": "1.5.0",
      "_model_name": "DescriptionStyleModel",
      "_view_count": null,
      "_view_module": "@jupyter-widgets/base",
      "_view_module_version": "1.2.0",
      "_view_name": "StyleView",
      "description_width": ""
     }
    },
    "4636b65dfef34c95a40f0d285906aeb9": {
     "model_module": "@jupyter-widgets/base",
     "model_module_version": "1.2.0",
     "model_name": "LayoutModel",
     "state": {
      "_model_module": "@jupyter-widgets/base",
      "_model_module_version": "1.2.0",
      "_model_name": "LayoutModel",
      "_view_count": null,
      "_view_module": "@jupyter-widgets/base",
      "_view_module_version": "1.2.0",
      "_view_name": "LayoutView",
      "align_content": null,
      "align_items": null,
      "align_self": null,
      "border": null,
      "bottom": null,
      "display": null,
      "flex": null,
      "flex_flow": null,
      "grid_area": null,
      "grid_auto_columns": null,
      "grid_auto_flow": null,
      "grid_auto_rows": null,
      "grid_column": null,
      "grid_gap": null,
      "grid_row": null,
      "grid_template_areas": null,
      "grid_template_columns": null,
      "grid_template_rows": null,
      "height": null,
      "justify_content": null,
      "justify_items": null,
      "left": null,
      "margin": null,
      "max_height": null,
      "max_width": null,
      "min_height": null,
      "min_width": null,
      "object_fit": null,
      "object_position": null,
      "order": null,
      "overflow": null,
      "overflow_x": null,
      "overflow_y": null,
      "padding": null,
      "right": null,
      "top": null,
      "visibility": null,
      "width": null
     }
    },
    "4767b5bb6661460eaa9e1bf36bb2d9fd": {
     "model_module": "@jupyter-widgets/controls",
     "model_module_version": "1.5.0",
     "model_name": "VBoxModel",
     "state": {
      "_dom_classes": [
       "widget-interact"
      ],
      "_model_module": "@jupyter-widgets/controls",
      "_model_module_version": "1.5.0",
      "_model_name": "VBoxModel",
      "_view_count": null,
      "_view_module": "@jupyter-widgets/controls",
      "_view_module_version": "1.5.0",
      "_view_name": "VBoxView",
      "box_style": "",
      "children": [
       "IPY_MODEL_79fc654dd4204f929035a5e72b87f11e",
       "IPY_MODEL_c1c76074db5b4279ae194d7c11f6937c"
      ],
      "layout": "IPY_MODEL_e4d0e2b882384d89ba9a037105a75ad7"
     }
    },
    "6aa742ad471b4676ab11775fa622f20f": {
     "model_module": "@jupyter-widgets/base",
     "model_module_version": "1.2.0",
     "model_name": "LayoutModel",
     "state": {
      "_model_module": "@jupyter-widgets/base",
      "_model_module_version": "1.2.0",
      "_model_name": "LayoutModel",
      "_view_count": null,
      "_view_module": "@jupyter-widgets/base",
      "_view_module_version": "1.2.0",
      "_view_name": "LayoutView",
      "align_content": null,
      "align_items": null,
      "align_self": null,
      "border": null,
      "bottom": null,
      "display": null,
      "flex": null,
      "flex_flow": null,
      "grid_area": null,
      "grid_auto_columns": null,
      "grid_auto_flow": null,
      "grid_auto_rows": null,
      "grid_column": null,
      "grid_gap": null,
      "grid_row": null,
      "grid_template_areas": null,
      "grid_template_columns": null,
      "grid_template_rows": null,
      "height": null,
      "justify_content": null,
      "justify_items": null,
      "left": null,
      "margin": null,
      "max_height": null,
      "max_width": null,
      "min_height": null,
      "min_width": null,
      "object_fit": null,
      "object_position": null,
      "order": null,
      "overflow": null,
      "overflow_x": null,
      "overflow_y": null,
      "padding": null,
      "right": null,
      "top": null,
      "visibility": null,
      "width": null
     }
    },
    "6f0d5341e52d4f35903360e48b7f60ab": {
     "model_module": "@jupyter-widgets/controls",
     "model_module_version": "1.5.0",
     "model_name": "DescriptionStyleModel",
     "state": {
      "_model_module": "@jupyter-widgets/controls",
      "_model_module_version": "1.5.0",
      "_model_name": "DescriptionStyleModel",
      "_view_count": null,
      "_view_module": "@jupyter-widgets/base",
      "_view_module_version": "1.2.0",
      "_view_name": "StyleView",
      "description_width": ""
     }
    },
    "79fc654dd4204f929035a5e72b87f11e": {
     "model_module": "@jupyter-widgets/controls",
     "model_module_version": "1.5.0",
     "model_name": "DropdownModel",
     "state": {
      "_dom_classes": [],
      "_model_module": "@jupyter-widgets/controls",
      "_model_module_version": "1.5.0",
      "_model_name": "DropdownModel",
      "_options_labels": [
       "2017",
       "2016",
       "2015",
       "2018"
      ],
      "_view_count": null,
      "_view_module": "@jupyter-widgets/controls",
      "_view_module_version": "1.5.0",
      "_view_name": "DropdownView",
      "description": "year",
      "description_tooltip": null,
      "disabled": false,
      "index": 0,
      "layout": "IPY_MODEL_3687f0c625dc488fb0c12755e786f0cf",
      "style": "IPY_MODEL_6f0d5341e52d4f35903360e48b7f60ab"
     }
    },
    "7ca41f76bc7443c59ebe5a8cf6f83c5d": {
     "model_module": "@jupyter-widgets/base",
     "model_module_version": "1.2.0",
     "model_name": "LayoutModel",
     "state": {
      "_model_module": "@jupyter-widgets/base",
      "_model_module_version": "1.2.0",
      "_model_name": "LayoutModel",
      "_view_count": null,
      "_view_module": "@jupyter-widgets/base",
      "_view_module_version": "1.2.0",
      "_view_name": "LayoutView",
      "align_content": null,
      "align_items": null,
      "align_self": null,
      "border": null,
      "bottom": null,
      "display": null,
      "flex": null,
      "flex_flow": null,
      "grid_area": null,
      "grid_auto_columns": null,
      "grid_auto_flow": null,
      "grid_auto_rows": null,
      "grid_column": null,
      "grid_gap": null,
      "grid_row": null,
      "grid_template_areas": null,
      "grid_template_columns": null,
      "grid_template_rows": null,
      "height": null,
      "justify_content": null,
      "justify_items": null,
      "left": null,
      "margin": null,
      "max_height": null,
      "max_width": null,
      "min_height": null,
      "min_width": null,
      "object_fit": null,
      "object_position": null,
      "order": null,
      "overflow": null,
      "overflow_x": null,
      "overflow_y": null,
      "padding": null,
      "right": null,
      "top": null,
      "visibility": null,
      "width": null
     }
    },
    "84fb307337264e10986ce4c553351cea": {
     "model_module": "@jupyter-widgets/controls",
     "model_module_version": "1.5.0",
     "model_name": "VBoxModel",
     "state": {
      "_dom_classes": [
       "widget-interact"
      ],
      "_model_module": "@jupyter-widgets/controls",
      "_model_module_version": "1.5.0",
      "_model_name": "VBoxModel",
      "_view_count": null,
      "_view_module": "@jupyter-widgets/controls",
      "_view_module_version": "1.5.0",
      "_view_name": "VBoxView",
      "box_style": "",
      "children": [
       "IPY_MODEL_225a298711644fe09cb53dfab9a335c7",
       "IPY_MODEL_19bbb92e3c8145978e43c46394cc4556"
      ],
      "layout": "IPY_MODEL_8b0f1e6d00724e5495a0cd8d451529ec"
     }
    },
    "8b0f1e6d00724e5495a0cd8d451529ec": {
     "model_module": "@jupyter-widgets/base",
     "model_module_version": "1.2.0",
     "model_name": "LayoutModel",
     "state": {
      "_model_module": "@jupyter-widgets/base",
      "_model_module_version": "1.2.0",
      "_model_name": "LayoutModel",
      "_view_count": null,
      "_view_module": "@jupyter-widgets/base",
      "_view_module_version": "1.2.0",
      "_view_name": "LayoutView",
      "align_content": null,
      "align_items": null,
      "align_self": null,
      "border": null,
      "bottom": null,
      "display": null,
      "flex": null,
      "flex_flow": null,
      "grid_area": null,
      "grid_auto_columns": null,
      "grid_auto_flow": null,
      "grid_auto_rows": null,
      "grid_column": null,
      "grid_gap": null,
      "grid_row": null,
      "grid_template_areas": null,
      "grid_template_columns": null,
      "grid_template_rows": null,
      "height": null,
      "justify_content": null,
      "justify_items": null,
      "left": null,
      "margin": null,
      "max_height": null,
      "max_width": null,
      "min_height": null,
      "min_width": null,
      "object_fit": null,
      "object_position": null,
      "order": null,
      "overflow": null,
      "overflow_x": null,
      "overflow_y": null,
      "padding": null,
      "right": null,
      "top": null,
      "visibility": null,
      "width": null
     }
    },
    "91e03199753042d883a7b4c3f9188369": {
     "model_module": "@jupyter-widgets/controls",
     "model_module_version": "1.5.0",
     "model_name": "DropdownModel",
     "state": {
      "_dom_classes": [],
      "_model_module": "@jupyter-widgets/controls",
      "_model_module_version": "1.5.0",
      "_model_name": "DropdownModel",
      "_options_labels": [
       "2017",
       "2016",
       "2015",
       "2018"
      ],
      "_view_count": null,
      "_view_module": "@jupyter-widgets/controls",
      "_view_module_version": "1.5.0",
      "_view_name": "DropdownView",
      "description": "year",
      "description_tooltip": null,
      "disabled": false,
      "index": 0,
      "layout": "IPY_MODEL_b5377d799e644a05a681821bc7690cf0",
      "style": "IPY_MODEL_0a16e72ce0194588bf87b3c946dcb332"
     }
    },
    "b5377d799e644a05a681821bc7690cf0": {
     "model_module": "@jupyter-widgets/base",
     "model_module_version": "1.2.0",
     "model_name": "LayoutModel",
     "state": {
      "_model_module": "@jupyter-widgets/base",
      "_model_module_version": "1.2.0",
      "_model_name": "LayoutModel",
      "_view_count": null,
      "_view_module": "@jupyter-widgets/base",
      "_view_module_version": "1.2.0",
      "_view_name": "LayoutView",
      "align_content": null,
      "align_items": null,
      "align_self": null,
      "border": null,
      "bottom": null,
      "display": null,
      "flex": null,
      "flex_flow": null,
      "grid_area": null,
      "grid_auto_columns": null,
      "grid_auto_flow": null,
      "grid_auto_rows": null,
      "grid_column": null,
      "grid_gap": null,
      "grid_row": null,
      "grid_template_areas": null,
      "grid_template_columns": null,
      "grid_template_rows": null,
      "height": null,
      "justify_content": null,
      "justify_items": null,
      "left": null,
      "margin": null,
      "max_height": null,
      "max_width": null,
      "min_height": null,
      "min_width": null,
      "object_fit": null,
      "object_position": null,
      "order": null,
      "overflow": null,
      "overflow_x": null,
      "overflow_y": null,
      "padding": null,
      "right": null,
      "top": null,
      "visibility": null,
      "width": null
     }
    },
    "b7abe4a7fe7a4e1f82738a90ac72136a": {
     "model_module": "@jupyter-widgets/output",
     "model_module_version": "1.0.0",
     "model_name": "OutputModel",
     "state": {
      "_dom_classes": [],
      "_model_module": "@jupyter-widgets/output",
      "_model_module_version": "1.0.0",
      "_model_name": "OutputModel",
      "_view_count": null,
      "_view_module": "@jupyter-widgets/output",
      "_view_module_version": "1.0.0",
      "_view_name": "OutputView",
      "layout": "IPY_MODEL_6aa742ad471b4676ab11775fa622f20f",
      "msg_id": "",
      "outputs": [
       {
        "data": {
         "image/png": "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\n",
         "text/plain": "<Figure size 800x800 with 1 Axes>"
        },
        "metadata": {},
        "output_type": "display_data"
       }
      ]
     }
    },
    "c1c76074db5b4279ae194d7c11f6937c": {
     "model_module": "@jupyter-widgets/output",
     "model_module_version": "1.0.0",
     "model_name": "OutputModel",
     "state": {
      "_dom_classes": [],
      "_model_module": "@jupyter-widgets/output",
      "_model_module_version": "1.0.0",
      "_model_name": "OutputModel",
      "_view_count": null,
      "_view_module": "@jupyter-widgets/output",
      "_view_module_version": "1.0.0",
      "_view_name": "OutputView",
      "layout": "IPY_MODEL_3bb87e8a9de94a039a61755ca275c79e",
      "msg_id": "",
      "outputs": [
       {
        "data": {
         "image/png": "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\n",
         "text/plain": "<Figure size 640x480 with 1 Axes>"
        },
        "metadata": {},
        "output_type": "display_data"
       }
      ]
     }
    },
    "c61baed78b5c45a98af94ab5dcf305e9": {
     "model_module": "@jupyter-widgets/base",
     "model_module_version": "1.2.0",
     "model_name": "LayoutModel",
     "state": {
      "_model_module": "@jupyter-widgets/base",
      "_model_module_version": "1.2.0",
      "_model_name": "LayoutModel",
      "_view_count": null,
      "_view_module": "@jupyter-widgets/base",
      "_view_module_version": "1.2.0",
      "_view_name": "LayoutView",
      "align_content": null,
      "align_items": null,
      "align_self": null,
      "border": null,
      "bottom": null,
      "display": null,
      "flex": null,
      "flex_flow": null,
      "grid_area": null,
      "grid_auto_columns": null,
      "grid_auto_flow": null,
      "grid_auto_rows": null,
      "grid_column": null,
      "grid_gap": null,
      "grid_row": null,
      "grid_template_areas": null,
      "grid_template_columns": null,
      "grid_template_rows": null,
      "height": null,
      "justify_content": null,
      "justify_items": null,
      "left": null,
      "margin": null,
      "max_height": null,
      "max_width": null,
      "min_height": null,
      "min_width": null,
      "object_fit": null,
      "object_position": null,
      "order": null,
      "overflow": null,
      "overflow_x": null,
      "overflow_y": null,
      "padding": null,
      "right": null,
      "top": null,
      "visibility": null,
      "width": null
     }
    },
    "cb412e6339094d26a8d4ff8b5f7d1521": {
     "model_module": "@jupyter-widgets/controls",
     "model_module_version": "1.5.0",
     "model_name": "DropdownModel",
     "state": {
      "_dom_classes": [],
      "_model_module": "@jupyter-widgets/controls",
      "_model_module_version": "1.5.0",
      "_model_name": "DropdownModel",
      "_options_labels": [
       "2017",
       "2016",
       "2015",
       "2018"
      ],
      "_view_count": null,
      "_view_module": "@jupyter-widgets/controls",
      "_view_module_version": "1.5.0",
      "_view_name": "DropdownView",
      "description": "year",
      "description_tooltip": null,
      "disabled": false,
      "index": 0,
      "layout": "IPY_MODEL_4636b65dfef34c95a40f0d285906aeb9",
      "style": "IPY_MODEL_42187594a48b4bfe91ba6f8a00b2d634"
     }
    },
    "d1186662ab0145fb9b688c160c06ee92": {
     "model_module": "@jupyter-widgets/base",
     "model_module_version": "1.2.0",
     "model_name": "LayoutModel",
     "state": {
      "_model_module": "@jupyter-widgets/base",
      "_model_module_version": "1.2.0",
      "_model_name": "LayoutModel",
      "_view_count": null,
      "_view_module": "@jupyter-widgets/base",
      "_view_module_version": "1.2.0",
      "_view_name": "LayoutView",
      "align_content": null,
      "align_items": null,
      "align_self": null,
      "border": null,
      "bottom": null,
      "display": null,
      "flex": null,
      "flex_flow": null,
      "grid_area": null,
      "grid_auto_columns": null,
      "grid_auto_flow": null,
      "grid_auto_rows": null,
      "grid_column": null,
      "grid_gap": null,
      "grid_row": null,
      "grid_template_areas": null,
      "grid_template_columns": null,
      "grid_template_rows": null,
      "height": null,
      "justify_content": null,
      "justify_items": null,
      "left": null,
      "margin": null,
      "max_height": null,
      "max_width": null,
      "min_height": null,
      "min_width": null,
      "object_fit": null,
      "object_position": null,
      "order": null,
      "overflow": null,
      "overflow_x": null,
      "overflow_y": null,
      "padding": null,
      "right": null,
      "top": null,
      "visibility": null,
      "width": null
     }
    },
    "e4d0e2b882384d89ba9a037105a75ad7": {
     "model_module": "@jupyter-widgets/base",
     "model_module_version": "1.2.0",
     "model_name": "LayoutModel",
     "state": {
      "_model_module": "@jupyter-widgets/base",
      "_model_module_version": "1.2.0",
      "_model_name": "LayoutModel",
      "_view_count": null,
      "_view_module": "@jupyter-widgets/base",
      "_view_module_version": "1.2.0",
      "_view_name": "LayoutView",
      "align_content": null,
      "align_items": null,
      "align_self": null,
      "border": null,
      "bottom": null,
      "display": null,
      "flex": null,
      "flex_flow": null,
      "grid_area": null,
      "grid_auto_columns": null,
      "grid_auto_flow": null,
      "grid_auto_rows": null,
      "grid_column": null,
      "grid_gap": null,
      "grid_row": null,
      "grid_template_areas": null,
      "grid_template_columns": null,
      "grid_template_rows": null,
      "height": null,
      "justify_content": null,
      "justify_items": null,
      "left": null,
      "margin": null,
      "max_height": null,
      "max_width": null,
      "min_height": null,
      "min_width": null,
      "object_fit": null,
      "object_position": null,
      "order": null,
      "overflow": null,
      "overflow_x": null,
      "overflow_y": null,
      "padding": null,
      "right": null,
      "top": null,
      "visibility": null,
      "width": null
     }
    },
    "edbadd515ca047bcb79da735f6f8268d": {
     "model_module": "@jupyter-widgets/base",
     "model_module_version": "1.2.0",
     "model_name": "LayoutModel",
     "state": {
      "_model_module": "@jupyter-widgets/base",
      "_model_module_version": "1.2.0",
      "_model_name": "LayoutModel",
      "_view_count": null,
      "_view_module": "@jupyter-widgets/base",
      "_view_module_version": "1.2.0",
      "_view_name": "LayoutView",
      "align_content": null,
      "align_items": null,
      "align_self": null,
      "border": null,
      "bottom": null,
      "display": null,
      "flex": null,
      "flex_flow": null,
      "grid_area": null,
      "grid_auto_columns": null,
      "grid_auto_flow": null,
      "grid_auto_rows": null,
      "grid_column": null,
      "grid_gap": null,
      "grid_row": null,
      "grid_template_areas": null,
      "grid_template_columns": null,
      "grid_template_rows": null,
      "height": null,
      "justify_content": null,
      "justify_items": null,
      "left": null,
      "margin": null,
      "max_height": null,
      "max_width": null,
      "min_height": null,
      "min_width": null,
      "object_fit": null,
      "object_position": null,
      "order": null,
      "overflow": null,
      "overflow_x": null,
      "overflow_y": null,
      "padding": null,
      "right": null,
      "top": null,
      "visibility": null,
      "width": null
     }
    }
   }
  }
 },
 "nbformat": 4,
 "nbformat_minor": 1
}
